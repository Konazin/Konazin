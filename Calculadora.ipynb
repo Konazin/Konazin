{
  "nbformat": 4,
  "nbformat_minor": 0,
  "metadata": {
    "colab": {
      "provenance": [],
      "authorship_tag": "ABX9TyOzJWawauI5yc6xxKsV06iu",
      "include_colab_link": true
    },
    "kernelspec": {
      "name": "python3",
      "display_name": "Python 3"
    },
    "language_info": {
      "name": "python"
    }
  },
  "cells": [
    {
      "cell_type": "markdown",
      "metadata": {
        "id": "view-in-github",
        "colab_type": "text"
      },
      "source": [
        "<a href=\"https://colab.research.google.com/github/Konazin/Konazin/blob/main/Calculadora.ipynb\" target=\"_parent\"><img src=\"https://colab.research.google.com/assets/colab-badge.svg\" alt=\"Open In Colab\"/></a>"
      ]
    },
    {
      "cell_type": "code",
      "execution_count": 69,
      "metadata": {
        "colab": {
          "base_uri": "https://localhost:8080/"
        },
        "id": "5415d3Gg7Wqk",
        "outputId": "245a92aa-2c11-4ae2-cb7a-7bec3cc97aad"
      },
      "outputs": [
        {
          "output_type": "stream",
          "name": "stdout",
          "text": [
            "escolha entre um a 4: 4\n",
            "numero: 12\n",
            "numero: 3\n",
            "12/3= \n",
            "4.0\n"
          ]
        }
      ],
      "source": [
        "escolha = int (input('escolha entre um a 4: '))\n",
        "if escolha==1:\n",
        "   number_1 = int (input('numero: '))\n",
        "   number_2 = int (input('numero: '))\n",
        "   number_1 + number_2\n",
        "   print ('{}+{}= '.format(number_1,number_2))\n",
        "   print (number_1+number_2)\n",
        "if escolha==2:\n",
        "    subtração= number_3 = int (input('numero: '))\n",
        "    number_4 = int (input('numero: '))\n",
        "    number_3 - number_4\n",
        "    print ('{}-{}= '.format(number_3,number_4))\n",
        "    print (number_3-number_4)\n",
        "if escolha==3:\n",
        "  number_5 = int (input('numero: '))\n",
        "  number_6 = int (input('numero: '))\n",
        "  number_5*number_6\n",
        "  print ('{}*{}= '.format(number_5,number_6))\n",
        "  print (number_5*number_6)\n",
        "if escolha==4:\n",
        "    number_7 = int (input('numero: '))\n",
        "    number_8 = int (input('numero: '))\n",
        "    number_7 / number_8\n",
        "    print ('{}/{}= '.format(number_7,number_8))\n",
        "    print (number_7/number_8)"
      ]
    }
  ]
}